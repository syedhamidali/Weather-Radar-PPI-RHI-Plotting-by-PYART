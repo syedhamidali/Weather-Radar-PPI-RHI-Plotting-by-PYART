{
 "cells": [
  {
   "cell_type": "markdown",
   "id": "d303ae4b",
   "metadata": {},
   "source": [
    "## PPI, Pseudo RHI, Py-ART\n",
    "- @author: [Hamid Ali Syed](https://twitter.com/hamidrixvi)\n",
    "- @date: Dec 10, 2022"
   ]
  },
  {
   "cell_type": "code",
   "execution_count": 2,
   "id": "0606b8fd",
   "metadata": {},
   "outputs": [],
   "source": [
    "import warnings\n",
    "warnings.filterwarnings(\"ignore\")\n",
    "import pyart\n",
    "import numpy as np\n",
    "from tqdm.notebook import trange, tqdm\n",
    "from matplotlib import pyplot as plt\n",
    "import cartopy.crs as ccrs\n",
    "import cartopy.feature as feat\n",
    "from cartopy.mpl.gridliner import LONGITUDE_FORMATTER, LATITUDE_FORMATTER"
   ]
  },
  {
   "cell_type": "code",
   "execution_count": 3,
   "id": "8b48ddb0",
   "metadata": {},
   "outputs": [],
   "source": [
    "def add_map(ax, b = 0, t=0, l = 0, r = 0):\n",
    "    gl = ax.gridlines(crs=ccrs.PlateCarree(), linewidth=0.3, color='black', alpha=0.3, \n",
    "                         linestyle='-', draw_labels=True)\n",
    "    gl.xlabels_top = t\n",
    "    gl.xlabels_bottom = b\n",
    "    gl.ylabels_left = l\n",
    "    gl.ylabels_right=r\n",
    "    gl.xlines = True\n",
    "    gl.ylines = True\n",
    "    gl.xformatter = LONGITUDE_FORMATTER\n",
    "    gl.yformatter = LATITUDE_FORMATTER\n",
    "    ax.add_feature(feat.BORDERS, lw = 0.5)\n",
    "    ax.add_feature(feat.STATES.with_scale(\"10m\"), alpha = 0.5, lw = 0.4, ls=\":\")"
   ]
  },
  {
   "cell_type": "code",
   "execution_count": 4,
   "id": "b8eab82f",
   "metadata": {
    "scrolled": true
   },
   "outputs": [],
   "source": [
    "radar = pyart.io.read_cfradial(\"polar_GOA210516024101.nc\")"
   ]
  },
  {
   "cell_type": "code",
   "execution_count": 5,
   "id": "5aba90ef",
   "metadata": {},
   "outputs": [],
   "source": [
    "def find_nearest(array, value):\n",
    "    array = np.asarray(array)\n",
    "    idx = (np.abs(array - value)).argmin()\n",
    "    return array[idx]"
   ]
  },
  {
   "cell_type": "code",
   "execution_count": 6,
   "id": "e68946af",
   "metadata": {
    "scrolled": false
   },
   "outputs": [
    {
     "data": {
      "application/vnd.jupyter.widget-view+json": {
       "model_id": "3430a7f7e6aa43d292eaa077e25e1101",
       "version_major": 2,
       "version_minor": 0
      },
      "text/plain": [
       "  0%|          | 0/72 [00:00<?, ?it/s]"
      ]
     },
     "metadata": {},
     "output_type": "display_data"
    }
   ],
   "source": [
    "projection=ccrs.LambertAzimuthalEqualArea(radar.longitude['data'][0],radar.latitude['data'][0])\n",
    "pdisplay = pyart.graph.RadarMapDisplay(radar)\n",
    "# azi = 270\n",
    "for i in trange(0, 360, 5):\n",
    "    azi = find_nearest(radar.azimuth['data'][radar.get_slice(0)], i)\n",
    "#     print(f\"Plotting azimuth {azi}\")\n",
    "    pseudorhi = pyart.util.cross_section_ppi(radar, [azi])\n",
    "    display = pyart.graph.RadarDisplay(pseudorhi)\n",
    "    fig = plt.figure(figsize=[14, 6])\n",
    "\n",
    "    map_panel_axes = [0.05, 0.05, .4, .80]\n",
    "    x_cut_panel_axes = [0.55, 0.10, .4, .25]\n",
    "    y_cut_panel_axes = [0.55, 0.50, .4, .25]\n",
    "\n",
    "    # Panel 1: PPI plot of the second tilt.\n",
    "    ax1 = fig.add_axes(map_panel_axes, projection=projection)\n",
    "    pdisplay.plot_ppi_map(\"REF\", cmap = \"pyart_NWSRef\", projection=projection, resolution=\"50m\", fig=fig, ax=ax1)\n",
    "    pdisplay.plot_range_rings(np.linspace(50, 250, 3), lw = 0.5, ax=ax1)\n",
    "\n",
    "    radar_lat = radar.latitude['data']\n",
    "    radar_lon = radar.longitude['data']\n",
    "\n",
    "    # Create azimuth lines\n",
    "    dtor = np.pi/180.0\n",
    "    max_range = 250\n",
    "    maxrange_meters = max_range * 1000.\n",
    "    meters_to_lat = 1. / 111177.\n",
    "    meters_to_lon =  1. / (111177. * np.cos(radar_lat * dtor))\n",
    "\n",
    "    # for azi in range(0,360,45): # 45 degree intervals\n",
    "    azimuth = 90. - azi\n",
    "    dazimuth = azimuth * dtor\n",
    "    lon_maxrange = radar_lon + np.cos(dazimuth) * meters_to_lon * maxrange_meters\n",
    "    lat_maxrange = radar_lat + np.sin(dazimuth) * meters_to_lat * maxrange_meters\n",
    "    pdisplay.plot_line_geo([radar_lon, lon_maxrange], [radar_lat, lat_maxrange], line_style='-', \n",
    "                           lw=2, color='yellow', transform=ccrs.PlateCarree())\n",
    "    add_map(ax=ax1, b=1, l=1)\n",
    "    # Panel 2: RHI slice\n",
    "    ax2 = fig.add_axes(x_cut_panel_axes)\n",
    "    display.plot_rhi('REF', ax = ax2, cmap = \"pyart_NWSRef\")\n",
    "    ax2.set_ylim([0,20])\n",
    "    ax2.set_xlim([0,200])\n",
    "    # Panel 3: RHI slice\n",
    "    ax3 = fig.add_axes(y_cut_panel_axes)\n",
    "    display.plot_rhi('VELH', ax = ax3, vmin = -30, vmax = 30, cmap = \"pyart_NWSVel\")\n",
    "    ax3.set_ylim([0,20])\n",
    "    ax3.set_xlim([0,200])\n",
    "    plt.savefig(f\"azimuth_ppi_rhi/{i}_RHI_Tauktae_azimuth_{azi}\"+\".png\", bbox_inches=\"tight\")\n",
    "    plt.close()"
   ]
  },
  {
   "cell_type": "code",
   "execution_count": 7,
   "id": "de4e8f62",
   "metadata": {},
   "outputs": [],
   "source": [
    "import re\n",
    "def natural_sort_key(s, _re=re.compile(r'(\\d+)')):\n",
    "    return [int(t) if i & 1 else t.lower() for i, t in enumerate(_re.split(s))]"
   ]
  },
  {
   "cell_type": "code",
   "execution_count": 8,
   "id": "3751079a",
   "metadata": {},
   "outputs": [],
   "source": [
    "import glob\n",
    "from PIL import Image\n",
    "\n",
    "# filepaths\n",
    "fp_in = \"azimuth_ppi_rhi/*png\"\n",
    "fp_out = 'project.gif'\n",
    "files = sorted(glob.glob(fp_in))\n",
    "sorted_files = sorted(files, key=natural_sort_key)\n",
    "img, *imgs = [Image.open(f) for f in sorted_files]\n",
    "img.save(fp=fp_out, format='GIF', append_images=imgs,\n",
    "         save_all=True, duration=300, loop=0)"
   ]
  },
  {
   "cell_type": "code",
   "execution_count": 9,
   "id": "3594a2e6",
   "metadata": {},
   "outputs": [
    {
     "data": {
      "text/html": [
       "<img src=\"project.gif\"/>"
      ],
      "text/plain": [
       "<IPython.core.display.Image object>"
      ]
     },
     "execution_count": 9,
     "metadata": {},
     "output_type": "execute_result"
    }
   ],
   "source": [
    "from IPython.display import Image\n",
    "Image(url='project.gif')  "
   ]
  },
  {
   "cell_type": "code",
   "execution_count": null,
   "id": "dc2f044a",
   "metadata": {},
   "outputs": [],
   "source": []
  }
 ],
 "metadata": {
  "kernelspec": {
   "display_name": "Python 3 (ipykernel)",
   "language": "python",
   "name": "python3"
  },
  "language_info": {
   "codemirror_mode": {
    "name": "ipython",
    "version": 3
   },
   "file_extension": ".py",
   "mimetype": "text/x-python",
   "name": "python",
   "nbconvert_exporter": "python",
   "pygments_lexer": "ipython3",
   "version": "3.11.0"
  }
 },
 "nbformat": 4,
 "nbformat_minor": 5
}
